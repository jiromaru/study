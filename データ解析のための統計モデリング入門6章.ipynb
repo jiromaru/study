{
 "cells": [
  {
   "cell_type": "code",
   "execution_count": 11,
   "metadata": {},
   "outputs": [
    {
     "data": {
      "text/html": [
       "<div>\n",
       "<style scoped>\n",
       "    .dataframe tbody tr th:only-of-type {\n",
       "        vertical-align: middle;\n",
       "    }\n",
       "\n",
       "    .dataframe tbody tr th {\n",
       "        vertical-align: top;\n",
       "    }\n",
       "\n",
       "    .dataframe thead th {\n",
       "        text-align: right;\n",
       "    }\n",
       "</style>\n",
       "<table border=\"1\" class=\"dataframe\">\n",
       "  <thead>\n",
       "    <tr style=\"text-align: right;\">\n",
       "      <th></th>\n",
       "      <th>N</th>\n",
       "      <th>y</th>\n",
       "      <th>x</th>\n",
       "      <th>f</th>\n",
       "    </tr>\n",
       "  </thead>\n",
       "  <tbody>\n",
       "    <tr>\n",
       "      <th>0</th>\n",
       "      <td>8</td>\n",
       "      <td>1</td>\n",
       "      <td>9.76</td>\n",
       "      <td>C</td>\n",
       "    </tr>\n",
       "    <tr>\n",
       "      <th>1</th>\n",
       "      <td>8</td>\n",
       "      <td>6</td>\n",
       "      <td>10.48</td>\n",
       "      <td>C</td>\n",
       "    </tr>\n",
       "    <tr>\n",
       "      <th>2</th>\n",
       "      <td>8</td>\n",
       "      <td>5</td>\n",
       "      <td>10.83</td>\n",
       "      <td>C</td>\n",
       "    </tr>\n",
       "    <tr>\n",
       "      <th>3</th>\n",
       "      <td>8</td>\n",
       "      <td>6</td>\n",
       "      <td>10.94</td>\n",
       "      <td>C</td>\n",
       "    </tr>\n",
       "    <tr>\n",
       "      <th>4</th>\n",
       "      <td>8</td>\n",
       "      <td>1</td>\n",
       "      <td>9.37</td>\n",
       "      <td>C</td>\n",
       "    </tr>\n",
       "  </tbody>\n",
       "</table>\n",
       "</div>"
      ],
      "text/plain": [
       "   N  y      x  f\n",
       "0  8  1   9.76  C\n",
       "1  8  6  10.48  C\n",
       "2  8  5  10.83  C\n",
       "3  8  6  10.94  C\n",
       "4  8  1   9.37  C"
      ]
     },
     "execution_count": 11,
     "metadata": {},
     "output_type": "execute_result"
    }
   ],
   "source": [
    "#6章　GLMの応用範囲をひろげる\n",
    "\n",
    "#この教科書の実装はR言語によるものとなっている。\n",
    "#それをPythonにて実装しなおす\n",
    "\n",
    "#########この章の簡単な説明######\n",
    "\"\"\"\"\"\n",
    "3章では、架空の植物の種子数がポアソン分布にしたがっているとして、体のサイズや施肥処理を説明変数とした\n",
    "ポアソン回帰を実装した。\n",
    "ここでは、二項分布を用いたGLMを実装する。\n",
    "\n",
    "下記のデータdの変数は\n",
    "N・・・観測種子数(すべての個体について8で固定)\n",
    "y・・・生存種子数\n",
    "x・・・個体の大きさ\n",
    "f・・・肥料の処理をしたかどうか(Tが施肥処理あり、Cがなし)\n",
    "\n",
    "観測種子数8のうち、y個の種子が生存しているというモデル。\n",
    "yはポアソン分布に従い、個体によって平均λは異なるという仮定のもとでモデルは構築されている。\n",
    "yは0-8をとる。\n",
    "\n",
    "終盤ではほかの分布のGLMも試す。\n",
    "\"\"\"\"\"\n",
    "import pandas as pd\n",
    "import requests \n",
    "\n",
    "d = pd.read_csv(\"http://hosho.ees.hokudai.ac.jp/~kubo/stat/iwanamibook/fig/binomial/data4a.csv\")\n",
    "d.head()"
   ]
  },
  {
   "cell_type": "code",
   "execution_count": 12,
   "metadata": {},
   "outputs": [
    {
     "data": {
      "text/plain": [
       "N      int64\n",
       "y      int64\n",
       "x    float64\n",
       "f     object\n",
       "dtype: object"
      ]
     },
     "execution_count": 12,
     "metadata": {},
     "output_type": "execute_result"
    }
   ],
   "source": [
    "#各変数の型の確認\n",
    "d.dtypes"
   ]
  },
  {
   "cell_type": "code",
   "execution_count": 13,
   "metadata": {},
   "outputs": [
    {
     "data": {
      "text/html": [
       "<div>\n",
       "<style scoped>\n",
       "    .dataframe tbody tr th:only-of-type {\n",
       "        vertical-align: middle;\n",
       "    }\n",
       "\n",
       "    .dataframe tbody tr th {\n",
       "        vertical-align: top;\n",
       "    }\n",
       "\n",
       "    .dataframe thead th {\n",
       "        text-align: right;\n",
       "    }\n",
       "</style>\n",
       "<table border=\"1\" class=\"dataframe\">\n",
       "  <thead>\n",
       "    <tr style=\"text-align: right;\">\n",
       "      <th></th>\n",
       "      <th>N</th>\n",
       "      <th>y</th>\n",
       "      <th>x</th>\n",
       "    </tr>\n",
       "  </thead>\n",
       "  <tbody>\n",
       "    <tr>\n",
       "      <th>count</th>\n",
       "      <td>100.0</td>\n",
       "      <td>100.000000</td>\n",
       "      <td>100.000000</td>\n",
       "    </tr>\n",
       "    <tr>\n",
       "      <th>mean</th>\n",
       "      <td>8.0</td>\n",
       "      <td>5.080000</td>\n",
       "      <td>9.967200</td>\n",
       "    </tr>\n",
       "    <tr>\n",
       "      <th>std</th>\n",
       "      <td>0.0</td>\n",
       "      <td>2.743882</td>\n",
       "      <td>1.088954</td>\n",
       "    </tr>\n",
       "    <tr>\n",
       "      <th>min</th>\n",
       "      <td>8.0</td>\n",
       "      <td>0.000000</td>\n",
       "      <td>7.660000</td>\n",
       "    </tr>\n",
       "    <tr>\n",
       "      <th>25%</th>\n",
       "      <td>8.0</td>\n",
       "      <td>3.000000</td>\n",
       "      <td>9.337500</td>\n",
       "    </tr>\n",
       "    <tr>\n",
       "      <th>50%</th>\n",
       "      <td>8.0</td>\n",
       "      <td>6.000000</td>\n",
       "      <td>9.965000</td>\n",
       "    </tr>\n",
       "    <tr>\n",
       "      <th>75%</th>\n",
       "      <td>8.0</td>\n",
       "      <td>8.000000</td>\n",
       "      <td>10.770000</td>\n",
       "    </tr>\n",
       "    <tr>\n",
       "      <th>max</th>\n",
       "      <td>8.0</td>\n",
       "      <td>8.000000</td>\n",
       "      <td>12.440000</td>\n",
       "    </tr>\n",
       "  </tbody>\n",
       "</table>\n",
       "</div>"
      ],
      "text/plain": [
       "           N           y           x\n",
       "count  100.0  100.000000  100.000000\n",
       "mean     8.0    5.080000    9.967200\n",
       "std      0.0    2.743882    1.088954\n",
       "min      8.0    0.000000    7.660000\n",
       "25%      8.0    3.000000    9.337500\n",
       "50%      8.0    6.000000    9.965000\n",
       "75%      8.0    8.000000   10.770000\n",
       "max      8.0    8.000000   12.440000"
      ]
     },
     "execution_count": 13,
     "metadata": {},
     "output_type": "execute_result"
    }
   ],
   "source": [
    "#変数の概要を調べる\n",
    "d.describe()"
   ]
  },
  {
   "cell_type": "code",
   "execution_count": 14,
   "metadata": {},
   "outputs": [
    {
     "data": {
      "text/plain": [
       "<matplotlib.axes._subplots.AxesSubplot at 0x1ecd7396978>"
      ]
     },
     "execution_count": 14,
     "metadata": {},
     "output_type": "execute_result"
    },
    {
     "data": {
      "text/plain": [
       "<Figure size 720x288 with 0 Axes>"
      ]
     },
     "metadata": {},
     "output_type": "display_data"
    },
    {
     "data": {
      "image/png": "[encoded data removed]",
      "text/plain": [
       "<Figure size 582.875x540 with 12 Axes>"
      ]
     },
     "metadata": {},
     "output_type": "display_data"
    },
    {
     "data": {
      "image/png": "[encoded data removed]",
      "text/plain": [
       "<Figure size 504x504 with 1 Axes>"
      ]
     },
     "metadata": {},
     "output_type": "display_data"
    }
   ],
   "source": [
    "import matplotlib.pyplot as plt\n",
    "import seaborn as sns\n",
    "\n",
    "#散布図\n",
    "plt.figure(figsize=(10,4))\n",
    "sns.pairplot(d,hue=\"f\")\n",
    "\n",
    "#箱ひげ図\n",
    "plt.figure(figsize=(7,7))\n",
    "sns.boxplot(d.f,d.y)\n",
    "\n",
    "#施肥処理ありのほうが生存種子数が多いことがわかる"
   ]
  },
  {
   "cell_type": "code",
   "execution_count": 15,
   "metadata": {},
   "outputs": [
    {
     "name": "stderr",
     "output_type": "stream",
     "text": [
      "C:\\Users\\hirou\\Anaconda3\\lib\\site-packages\\scipy\\stats\\stats.py:1713: FutureWarning: Using a non-tuple sequence for multidimensional indexing is deprecated; use `arr[tuple(seq)]` instead of `arr[seq]`. In the future this will be interpreted as an array index, `arr[np.array(seq)]`, which will result either in an error or a different result.\n",
      "  return np.add.reduce(sorted[indexer] * weights, axis=axis) / sumval\n",
      "C:\\Users\\hirou\\Anaconda3\\lib\\site-packages\\matplotlib\\axes\\_axes.py:6462: UserWarning: The 'normed' kwarg is deprecated, and has been replaced by the 'density' kwarg.\n",
      "  warnings.warn(\"The 'normed' kwarg is deprecated, and has been \"\n",
      "C:\\Users\\hirou\\Anaconda3\\lib\\site-packages\\matplotlib\\axes\\_axes.py:6462: UserWarning: The 'normed' kwarg is deprecated, and has been replaced by the 'density' kwarg.\n",
      "  warnings.warn(\"The 'normed' kwarg is deprecated, and has been \"\n"
     ]
    },
    {
     "data": {
      "text/plain": [
       "<seaborn.axisgrid.JointGrid at 0x1ecd47ec9b0>"
      ]
     },
     "execution_count": 15,
     "metadata": {},
     "output_type": "execute_result"
    },
    {
     "data": {
      "text/plain": [
       "<Figure size 720x288 with 0 Axes>"
      ]
     },
     "metadata": {},
     "output_type": "display_data"
    },
    {
     "data": {
      "image/png": "[encoded data removed]",
      "text/plain": [
       "<Figure size 432x432 with 3 Axes>"
      ]
     },
     "metadata": {},
     "output_type": "display_data"
    }
   ],
   "source": [
    "import numpy as np\n",
    "\n",
    "#ロジスティック関数の形を確認するために描写してみる\n",
    "#arrangeは等差数列を作る\n",
    "\n",
    "z = np.arange(-8, 8, 0.1)\n",
    "logit = (1/(np.ones(z.size)+np.exp(-z)))\n",
    "\n",
    "plt.figure(figsize=(10,4))\n",
    "sns.jointplot(z,logit)\n"
   ]
  },
  {
   "cell_type": "code",
   "execution_count": 16,
   "metadata": {},
   "outputs": [
    {
     "data": {
      "text/html": [
       "<div>\n",
       "<style scoped>\n",
       "    .dataframe tbody tr th:only-of-type {\n",
       "        vertical-align: middle;\n",
       "    }\n",
       "\n",
       "    .dataframe tbody tr th {\n",
       "        vertical-align: top;\n",
       "    }\n",
       "\n",
       "    .dataframe thead th {\n",
       "        text-align: right;\n",
       "    }\n",
       "</style>\n",
       "<table border=\"1\" class=\"dataframe\">\n",
       "  <thead>\n",
       "    <tr style=\"text-align: right;\">\n",
       "      <th></th>\n",
       "      <th>N</th>\n",
       "      <th>y</th>\n",
       "      <th>x</th>\n",
       "      <th>f</th>\n",
       "    </tr>\n",
       "  </thead>\n",
       "  <tbody>\n",
       "    <tr>\n",
       "      <th>0</th>\n",
       "      <td>8</td>\n",
       "      <td>1</td>\n",
       "      <td>9.76</td>\n",
       "      <td>0</td>\n",
       "    </tr>\n",
       "    <tr>\n",
       "      <th>1</th>\n",
       "      <td>8</td>\n",
       "      <td>6</td>\n",
       "      <td>10.48</td>\n",
       "      <td>0</td>\n",
       "    </tr>\n",
       "    <tr>\n",
       "      <th>2</th>\n",
       "      <td>8</td>\n",
       "      <td>5</td>\n",
       "      <td>10.83</td>\n",
       "      <td>0</td>\n",
       "    </tr>\n",
       "    <tr>\n",
       "      <th>3</th>\n",
       "      <td>8</td>\n",
       "      <td>6</td>\n",
       "      <td>10.94</td>\n",
       "      <td>0</td>\n",
       "    </tr>\n",
       "    <tr>\n",
       "      <th>4</th>\n",
       "      <td>8</td>\n",
       "      <td>1</td>\n",
       "      <td>9.37</td>\n",
       "      <td>0</td>\n",
       "    </tr>\n",
       "  </tbody>\n",
       "</table>\n",
       "</div>"
      ],
      "text/plain": [
       "   N  y      x  f\n",
       "0  8  1   9.76  0\n",
       "1  8  6  10.48  0\n",
       "2  8  5  10.83  0\n",
       "3  8  6  10.94  0\n",
       "4  8  1   9.37  0"
      ]
     },
     "execution_count": 16,
     "metadata": {},
     "output_type": "execute_result"
    }
   ],
   "source": [
    "import statsmodels.api as sm\n",
    "#fをダミー変数化\n",
    "d.loc[d[\"f\"]==\"C\",\"f\"]=\"0\"\n",
    "d.loc[d[\"f\"]==\"T\",\"f\"]=\"1\"\n",
    "d.f=d.f.astype(int)\n",
    "d.head()"
   ]
  },
  {
   "cell_type": "code",
   "execution_count": 18,
   "metadata": {},
   "outputs": [
    {
     "name": "stdout",
     "output_type": "stream",
     "text": [
      "Parameters:  Intercept   -19.536066\n",
      "x             1.952406\n",
      "f             2.021506\n",
      "dtype: float64\n",
      "                 Generalized Linear Model Regression Results                  \n",
      "==============================================================================\n",
      "Dep. Variable:      ['y', 'I(N - y)']   No. Observations:                  100\n",
      "Model:                            GLM   Df Residuals:                       97\n",
      "Model Family:                Binomial   Df Model:                            2\n",
      "Link Function:                  logit   Scale:                          1.0000\n",
      "Method:                          IRLS   Log-Likelihood:                -133.11\n",
      "Date:                Tue, 09 Oct 2018   Deviance:                       123.03\n",
      "Time:                        16:30:55   Pearson chi2:                     109.\n",
      "No. Iterations:                     6   Covariance Type:             nonrobust\n",
      "==============================================================================\n",
      "                 coef    std err          z      P>|z|      [0.025      0.975]\n",
      "------------------------------------------------------------------------------\n",
      "Intercept    -19.5361      1.414    -13.818      0.000     -22.307     -16.765\n",
      "x              1.9524      0.139     14.059      0.000       1.680       2.225\n",
      "f              2.0215      0.231      8.740      0.000       1.568       2.475\n",
      "==============================================================================\n",
      "               Results: Generalized linear model\n",
      "===============================================================\n",
      "Model:              GLM               AIC:            272.2111 \n",
      "Link Function:      logit             BIC:            -323.6676\n",
      "Dependent Variable: ['y', 'I(N - y)'] Log-Likelihood: -133.11  \n",
      "Date:               2018-10-09 16:30  LL-Null:        -321.20  \n",
      "No. Observations:   100               Deviance:       123.03   \n",
      "Df Model:           2                 Pearson chi2:   109.     \n",
      "Df Residuals:       97                Scale:          1.0000   \n",
      "Method:             IRLS                                       \n",
      "---------------------------------------------------------------\n",
      "             Coef.   Std.Err.    z     P>|z|   [0.025   0.975] \n",
      "---------------------------------------------------------------\n",
      "Intercept   -19.5361   1.4138 -13.8184 0.0000 -22.3070 -16.7651\n",
      "x             1.9524   0.1389  14.0590 0.0000   1.6802   2.2246\n",
      "f             2.0215   0.2313   8.7404 0.0000   1.5682   2.4748\n",
      "===============================================================\n",
      "\n"
     ]
    }
   ],
   "source": [
    "import matplotlib.pyplot as plt\n",
    "import statsmodels.api as sm\n",
    "import statsmodels.formula.api as smf \n",
    "\n",
    "#smfのコンビネーションの表現はy + I(N - y)となる。\n",
    "#このformulaの表記はpastyの表記らしく、\"+\"は組み合わせを示す。I()で囲うことでただの足し算とかができる。\n",
    "#Rの表記にならってるらしい。\n",
    "#尤度は二項分布で、パラメータp(生存確率)がロジスティック関数で表現される。\n",
    "#p=1/1+exp(-α-βx-f)で表現される。\n",
    "#二項分布によるGLMはリンク関数がデフォルトでlogitになる。\n",
    "\n",
    "log_model = smf.glm(formula=\"y + I(N - y) ~ x + f\",data=d, family=sm.families.Binomial())\n",
    "log_res = log_model.fit()\n",
    "print('Parameters: ', log_res.params)\n",
    "print(log_res.summary())\n",
    "print(log_res.summary2())"
   ]
  },
  {
   "cell_type": "code",
   "execution_count": 20,
   "metadata": {},
   "outputs": [
    {
     "data": {
      "text/plain": [
       "[statsmodels.genmod.families.links.logit,\n",
       " statsmodels.genmod.families.links.probit,\n",
       " statsmodels.genmod.families.links.cauchy,\n",
       " statsmodels.genmod.families.links.log,\n",
       " statsmodels.genmod.families.links.cloglog,\n",
       " statsmodels.genmod.families.links.identity]"
      ]
     },
     "execution_count": 20,
     "metadata": {},
     "output_type": "execute_result"
    }
   ],
   "source": [
    "#二項回帰で使えるリンク関数\n",
    "sm.families.Binomial().links"
   ]
  },
  {
   "cell_type": "code",
   "execution_count": 22,
   "metadata": {},
   "outputs": [
    {
     "name": "stdout",
     "output_type": "stream",
     "text": [
      "Parameters:  Intercept   -18.523322\n",
      "x             1.852509\n",
      "f            -0.063764\n",
      "x:f           0.216338\n",
      "dtype: float64\n",
      "                 Generalized Linear Model Regression Results                  \n",
      "==============================================================================\n",
      "Dep. Variable:      ['y', 'I(N - y)']   No. Observations:                  100\n",
      "Model:                            GLM   Df Residuals:                       96\n",
      "Model Family:                Binomial   Df Model:                            3\n",
      "Link Function:                  logit   Scale:                          1.0000\n",
      "Method:                          IRLS   Log-Likelihood:                -132.81\n",
      "Date:                Tue, 09 Oct 2018   Deviance:                       122.43\n",
      "Time:                        16:33:46   Pearson chi2:                     109.\n",
      "No. Iterations:                     6   Covariance Type:             nonrobust\n",
      "==============================================================================\n",
      "                 coef    std err          z      P>|z|      [0.025      0.975]\n",
      "------------------------------------------------------------------------------\n",
      "Intercept    -18.5233      1.886     -9.821      0.000     -22.220     -14.827\n",
      "x              1.8525      0.186      9.983      0.000       1.489       2.216\n",
      "f             -0.0638      2.704     -0.024      0.981      -5.363       5.235\n",
      "x:f            0.2163      0.280      0.772      0.440      -0.333       0.765\n",
      "==============================================================================\n",
      "               Results: Generalized linear model\n",
      "===============================================================\n",
      "Model:              GLM               AIC:            273.6106 \n",
      "Link Function:      logit             BIC:            -319.6630\n",
      "Dependent Variable: ['y', 'I(N - y)'] Log-Likelihood: -132.81  \n",
      "Date:               2018-10-09 16:33  LL-Null:        -321.20  \n",
      "No. Observations:   100               Deviance:       122.43   \n",
      "Df Model:           3                 Pearson chi2:   109.     \n",
      "Df Residuals:       96                Scale:          1.0000   \n",
      "Method:             IRLS                                       \n",
      "---------------------------------------------------------------\n",
      "              Coef.   Std.Err.    z    P>|z|   [0.025   0.975] \n",
      "---------------------------------------------------------------\n",
      "Intercept    -18.5233   1.8861 -9.8209 0.0000 -22.2200 -14.8266\n",
      "x              1.8525   0.1856  9.9826 0.0000   1.4888   2.2162\n",
      "f             -0.0638   2.7036 -0.0236 0.9812  -5.3628   5.2352\n",
      "x:f            0.2163   0.2801  0.7724 0.4399  -0.3326   0.7653\n",
      "===============================================================\n",
      "\n"
     ]
    }
   ],
   "source": [
    "#交差項を入れたモデル\n",
    "#X*fとすると、x+f+x:fと同じ意味になる。\n",
    "log_model2 = smf.glm(formula=\"y + I(N - y) ~ x * f\",data=d, family=sm.families.Binomial())\n",
    "log_res2 = log_model2.fit()\n",
    "print('Parameters: ', log_res2.params)\n",
    "print(log_res2.summary())\n",
    "print(log_res2.summary2())"
   ]
  },
  {
   "cell_type": "code",
   "execution_count": 24,
   "metadata": {},
   "outputs": [
    {
     "data": {
      "text/html": [
       "<div>\n",
       "<style scoped>\n",
       "    .dataframe tbody tr th:only-of-type {\n",
       "        vertical-align: middle;\n",
       "    }\n",
       "\n",
       "    .dataframe tbody tr th {\n",
       "        vertical-align: top;\n",
       "    }\n",
       "\n",
       "    .dataframe thead th {\n",
       "        text-align: right;\n",
       "    }\n",
       "</style>\n",
       "<table border=\"1\" class=\"dataframe\">\n",
       "  <thead>\n",
       "    <tr style=\"text-align: right;\">\n",
       "      <th></th>\n",
       "      <th>y</th>\n",
       "      <th>x</th>\n",
       "      <th>A</th>\n",
       "    </tr>\n",
       "  </thead>\n",
       "  <tbody>\n",
       "    <tr>\n",
       "      <th>0</th>\n",
       "      <td>57</td>\n",
       "      <td>0.68</td>\n",
       "      <td>10.3</td>\n",
       "    </tr>\n",
       "    <tr>\n",
       "      <th>1</th>\n",
       "      <td>64</td>\n",
       "      <td>0.27</td>\n",
       "      <td>15.6</td>\n",
       "    </tr>\n",
       "    <tr>\n",
       "      <th>2</th>\n",
       "      <td>49</td>\n",
       "      <td>0.46</td>\n",
       "      <td>10.0</td>\n",
       "    </tr>\n",
       "    <tr>\n",
       "      <th>3</th>\n",
       "      <td>64</td>\n",
       "      <td>0.45</td>\n",
       "      <td>14.9</td>\n",
       "    </tr>\n",
       "    <tr>\n",
       "      <th>4</th>\n",
       "      <td>82</td>\n",
       "      <td>0.74</td>\n",
       "      <td>14.0</td>\n",
       "    </tr>\n",
       "  </tbody>\n",
       "</table>\n",
       "</div>"
      ],
      "text/plain": [
       "    y     x     A\n",
       "0  57  0.68  10.3\n",
       "1  64  0.27  15.6\n",
       "2  49  0.46  10.0\n",
       "3  64  0.45  14.9\n",
       "4  82  0.74  14.0"
      ]
     },
     "execution_count": 24,
     "metadata": {},
     "output_type": "execute_result"
    }
   ],
   "source": [
    "e = pd.read_csv(\"http://hosho.ees.hokudai.ac.jp/~kubo/stat/iwanamibook/fig/binomial/data4b.csv\")\n",
    "e.head()"
   ]
  },
  {
   "cell_type": "code",
   "execution_count": 26,
   "metadata": {},
   "outputs": [
    {
     "name": "stdout",
     "output_type": "stream",
     "text": [
      "Parameters:  Intercept    0.973082\n",
      "x            1.038270\n",
      "dtype: float64\n",
      "                 Generalized Linear Model Regression Results                  \n",
      "==============================================================================\n",
      "Dep. Variable:                      y   No. Observations:                  100\n",
      "Model:                            GLM   Df Residuals:                       98\n",
      "Model Family:                 Poisson   Df Model:                            1\n",
      "Link Function:                    log   Scale:                          1.0000\n",
      "Method:                          IRLS   Log-Likelihood:                -323.17\n",
      "Date:                Tue, 09 Oct 2018   Deviance:                       81.608\n",
      "Time:                        17:04:58   Pearson chi2:                     81.5\n",
      "No. Iterations:                     4   Covariance Type:             nonrobust\n",
      "==============================================================================\n",
      "                 coef    std err          z      P>|z|      [0.025      0.975]\n",
      "------------------------------------------------------------------------------\n",
      "Intercept      0.9731      0.045     21.600      0.000       0.885       1.061\n",
      "x              1.0383      0.078     13.364      0.000       0.886       1.191\n",
      "==============================================================================\n",
      "              Results: Generalized linear model\n",
      "==============================================================\n",
      "Model:              GLM              AIC:            650.3406 \n",
      "Link Function:      log              BIC:            -369.6983\n",
      "Dependent Variable: y                Log-Likelihood: -323.17  \n",
      "Date:               2018-10-09 17:04 LL-Null:        -585.38  \n",
      "No. Observations:   100              Deviance:       81.608   \n",
      "Df Model:           1                Pearson chi2:   81.5     \n",
      "Df Residuals:       98               Scale:          1.0000   \n",
      "Method:             IRLS                                      \n",
      "---------------------------------------------------------------\n",
      "              Coef.   Std.Err.     z     P>|z|   [0.025  0.975]\n",
      "---------------------------------------------------------------\n",
      "Intercept     0.9731    0.0451  21.5999  0.0000  0.8848  1.0614\n",
      "x             1.0383    0.0777  13.3638  0.0000  0.8860  1.1905\n",
      "==============================================================\n",
      "\n"
     ]
    }
   ],
   "source": [
    "#オフセット項を入れたモデル。オフセット項はoffset=で指定する。\n",
    "#smfではデフォルトで定数項がつくことに注意\n",
    "#formula=\"y ~ x -1\" という風に、-変数名とすればその項目は消せる。定数項は-1で消える。\n",
    "#定数項のみで回帰する場合、formula=\"y ~ 1\"とする。\n",
    "\n",
    "offset_model = smf.glm(formula=\"y ~ x \",offset=np.log(e['A']),data=e, family=sm.families.Poisson())\n",
    "offset_res = offset_model.fit()\n",
    "print('Parameters: ', offset_res.params)\n",
    "print(offset_res.summary())\n",
    "print(offset_res.summary2())"
   ]
  },
  {
   "cell_type": "code",
   "execution_count": 30,
   "metadata": {},
   "outputs": [
    {
     "name": "stdout",
     "output_type": "stream",
     "text": [
      "                 Generalized Linear Model Regression Results                  \n",
      "==============================================================================\n",
      "Dep. Variable:                      y   No. Observations:                   50\n",
      "Model:                            GLM   Df Residuals:                       48\n",
      "Model Family:                   Gamma   Df Model:                            1\n",
      "Link Function:                    log   Scale:                         0.32508\n",
      "Method:                          IRLS   Log-Likelihood:                 58.471\n",
      "Date:                Tue, 09 Oct 2018   Deviance:                       17.251\n",
      "Time:                        17:16:53   Pearson chi2:                     15.6\n",
      "No. Iterations:                    18   Covariance Type:             nonrobust\n",
      "==============================================================================\n",
      "                 coef    std err          z      P>|z|      [0.025      0.975]\n",
      "------------------------------------------------------------------------------\n",
      "Intercept     -1.0403      0.119     -8.759      0.000      -1.273      -0.808\n",
      "logx           0.6832      0.068      9.992      0.000       0.549       0.817\n",
      "==============================================================================\n"
     ]
    }
   ],
   "source": [
    "#ガンマ分布のGLM\n",
    "\n",
    "import pyper as pr\n",
    "\n",
    "#Rdata形式はR専用のデータなのでPythonで読み込むことはできない。\n",
    "#Rdataをpythonで読み込むにはpyperを使うのが楽だと思われる。\n",
    "#これはRdata読み込み用ではなく、Rの処理をpythonから行うというもの。\n",
    "#httpなのでloadだけでは読み込めず、url関数を使う必要がある。(read.csvなどはそのままネット上のデータを扱える。)\n",
    "\n",
    "r = pr.R(use_numpy='True', use_pandas='True')\n",
    "r('load(url(\"http://hosho.ees.hokudai.ac.jp/~kubo/stat/iwanamibook/fig/gamma/d.RData\"))')\n",
    "rdata = pd.DataFrame(r.get(\"d\"))\n",
    "rdata.columns = [\"x\", \"y\"]\n",
    "rdata['logx'] = np.log(rdata.x)\n",
    "gamma_model = smf.glm(formula='y ~ logx', data=rdata, family=sm.families.Gamma(link=sm.families.links.log))\n",
    "gamma_model_fit = gamma_model.fit()\n",
    "\n",
    "print(gamma_model_fit.summary())"
   ]
  },
  {
   "cell_type": "code",
   "execution_count": 31,
   "metadata": {},
   "outputs": [
    {
     "data": {
      "text/plain": [
       "[<matplotlib.lines.Line2D at 0x1ecd4765978>]"
      ]
     },
     "execution_count": 31,
     "metadata": {},
     "output_type": "execute_result"
    },
    {
     "data": {
      "image/png": "[encoded data removed]",
      "text/plain": [
       "<Figure size 432x288 with 1 Axes>"
      ]
     },
     "metadata": {},
     "output_type": "display_data"
    }
   ],
   "source": [
    "import matplotlib.pyplot as plt\n",
    "fig1 = plt.figure()\n",
    "ax1 = fig1.add_subplot(111)\n",
    "ax1.scatter(rdata.x, rdata.y)\n",
    "xx = np.arange(min(rdata.x), max(rdata.x),0.01)\n",
    "ax1.plot(xx, np.exp(-1.0403+0.6832*np.log(xx)))"
   ]
  }
 ],
 "metadata": {
  "kernelspec": {
   "display_name": "Python 3",
   "language": "python",
   "name": "python3"
  },
  "language_info": {
   "codemirror_mode": {
    "name": "ipython",
    "version": 3
   },
   "file_extension": ".py",
   "mimetype": "text/x-python",
   "name": "python",
   "nbconvert_exporter": "python",
   "pygments_lexer": "ipython3",
   "version": "3.6.6"
  }
 },
 "nbformat": 4,
 "nbformat_minor": 2
}
