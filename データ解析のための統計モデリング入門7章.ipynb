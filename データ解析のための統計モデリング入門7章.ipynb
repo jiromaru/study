{
 "cells": [
  {
   "cell_type": "code",
   "execution_count": 2,
   "metadata": {
    "scrolled": false
   },
   "outputs": [
    {
     "data": {
      "text/html": [
       "<div>\n",
       "<style scoped>\n",
       "    .dataframe tbody tr th:only-of-type {\n",
       "        vertical-align: middle;\n",
       "    }\n",
       "\n",
       "    .dataframe tbody tr th {\n",
       "        vertical-align: top;\n",
       "    }\n",
       "\n",
       "    .dataframe thead th {\n",
       "        text-align: right;\n",
       "    }\n",
       "</style>\n",
       "<table border=\"1\" class=\"dataframe\">\n",
       "  <thead>\n",
       "    <tr style=\"text-align: right;\">\n",
       "      <th></th>\n",
       "      <th>N</th>\n",
       "      <th>y</th>\n",
       "      <th>x</th>\n",
       "      <th>id</th>\n",
       "    </tr>\n",
       "  </thead>\n",
       "  <tbody>\n",
       "    <tr>\n",
       "      <th>0</th>\n",
       "      <td>8</td>\n",
       "      <td>0</td>\n",
       "      <td>2</td>\n",
       "      <td>1</td>\n",
       "    </tr>\n",
       "    <tr>\n",
       "      <th>1</th>\n",
       "      <td>8</td>\n",
       "      <td>1</td>\n",
       "      <td>2</td>\n",
       "      <td>2</td>\n",
       "    </tr>\n",
       "    <tr>\n",
       "      <th>2</th>\n",
       "      <td>8</td>\n",
       "      <td>2</td>\n",
       "      <td>2</td>\n",
       "      <td>3</td>\n",
       "    </tr>\n",
       "    <tr>\n",
       "      <th>3</th>\n",
       "      <td>8</td>\n",
       "      <td>4</td>\n",
       "      <td>2</td>\n",
       "      <td>4</td>\n",
       "    </tr>\n",
       "    <tr>\n",
       "      <th>4</th>\n",
       "      <td>8</td>\n",
       "      <td>1</td>\n",
       "      <td>2</td>\n",
       "      <td>5</td>\n",
       "    </tr>\n",
       "  </tbody>\n",
       "</table>\n",
       "</div>"
      ],
      "text/plain": [
       "   N  y  x  id\n",
       "0  8  0  2   1\n",
       "1  8  1  2   2\n",
       "2  8  2  2   3\n",
       "3  8  4  2   4\n",
       "4  8  1  2   5"
      ]
     },
     "execution_count": 2,
     "metadata": {},
     "output_type": "execute_result"
    }
   ],
   "source": [
    "#7章　一般化線形混合モデル(GLMM)\n",
    "\n",
    "#この教科書の実装はR言語によるものとなっている。\n",
    "#それをPythonにて実装しなおす\n",
    "\n",
    "#########この章の簡単な説明######\n",
    "\"\"\"\"\"\n",
    "3,5,6章では、種子数を体のサイズや施肥処理を入れて分析をした。\n",
    "この章では個体差や場所差といった要素を考慮に入れたモデルを作成する。\n",
    "※注\n",
    "glmmはPythonで実装することが難しそうなので、pyperを使ってPythonからRを叩いてglmmを使用する。\n",
    "\"\"\"\"\"\n",
    "\n",
    "import pandas as pd\n",
    "d=pd.read_csv(\"http://hosho.ees.hokudai.ac.jp/~kubo/stat/iwanamibook/fig/glmm/data.csv\")\n",
    "d.head()"
   ]
  },
  {
   "cell_type": "code",
   "execution_count": 3,
   "metadata": {},
   "outputs": [
    {
     "data": {
      "text/plain": [
       "N     int64\n",
       "y     int64\n",
       "x     int64\n",
       "id    int64\n",
       "dtype: object"
      ]
     },
     "execution_count": 3,
     "metadata": {},
     "output_type": "execute_result"
    }
   ],
   "source": [
    "#各変数の型の確認\n",
    "d.dtypes"
   ]
  },
  {
   "cell_type": "code",
   "execution_count": 4,
   "metadata": {},
   "outputs": [
    {
     "data": {
      "text/html": [
       "<div>\n",
       "<style scoped>\n",
       "    .dataframe tbody tr th:only-of-type {\n",
       "        vertical-align: middle;\n",
       "    }\n",
       "\n",
       "    .dataframe tbody tr th {\n",
       "        vertical-align: top;\n",
       "    }\n",
       "\n",
       "    .dataframe thead th {\n",
       "        text-align: right;\n",
       "    }\n",
       "</style>\n",
       "<table border=\"1\" class=\"dataframe\">\n",
       "  <thead>\n",
       "    <tr style=\"text-align: right;\">\n",
       "      <th></th>\n",
       "      <th>N</th>\n",
       "      <th>y</th>\n",
       "      <th>x</th>\n",
       "      <th>id</th>\n",
       "    </tr>\n",
       "  </thead>\n",
       "  <tbody>\n",
       "    <tr>\n",
       "      <th>count</th>\n",
       "      <td>100.0</td>\n",
       "      <td>100.000000</td>\n",
       "      <td>100.000000</td>\n",
       "      <td>100.000000</td>\n",
       "    </tr>\n",
       "    <tr>\n",
       "      <th>mean</th>\n",
       "      <td>8.0</td>\n",
       "      <td>3.810000</td>\n",
       "      <td>4.000000</td>\n",
       "      <td>50.500000</td>\n",
       "    </tr>\n",
       "    <tr>\n",
       "      <th>std</th>\n",
       "      <td>0.0</td>\n",
       "      <td>3.070534</td>\n",
       "      <td>1.421338</td>\n",
       "      <td>29.011492</td>\n",
       "    </tr>\n",
       "    <tr>\n",
       "      <th>min</th>\n",
       "      <td>8.0</td>\n",
       "      <td>0.000000</td>\n",
       "      <td>2.000000</td>\n",
       "      <td>1.000000</td>\n",
       "    </tr>\n",
       "    <tr>\n",
       "      <th>25%</th>\n",
       "      <td>8.0</td>\n",
       "      <td>1.000000</td>\n",
       "      <td>3.000000</td>\n",
       "      <td>25.750000</td>\n",
       "    </tr>\n",
       "    <tr>\n",
       "      <th>50%</th>\n",
       "      <td>8.0</td>\n",
       "      <td>3.000000</td>\n",
       "      <td>4.000000</td>\n",
       "      <td>50.500000</td>\n",
       "    </tr>\n",
       "    <tr>\n",
       "      <th>75%</th>\n",
       "      <td>8.0</td>\n",
       "      <td>7.000000</td>\n",
       "      <td>5.000000</td>\n",
       "      <td>75.250000</td>\n",
       "    </tr>\n",
       "    <tr>\n",
       "      <th>max</th>\n",
       "      <td>8.0</td>\n",
       "      <td>8.000000</td>\n",
       "      <td>6.000000</td>\n",
       "      <td>100.000000</td>\n",
       "    </tr>\n",
       "  </tbody>\n",
       "</table>\n",
       "</div>"
      ],
      "text/plain": [
       "           N           y           x          id\n",
       "count  100.0  100.000000  100.000000  100.000000\n",
       "mean     8.0    3.810000    4.000000   50.500000\n",
       "std      0.0    3.070534    1.421338   29.011492\n",
       "min      8.0    0.000000    2.000000    1.000000\n",
       "25%      8.0    1.000000    3.000000   25.750000\n",
       "50%      8.0    3.000000    4.000000   50.500000\n",
       "75%      8.0    7.000000    5.000000   75.250000\n",
       "max      8.0    8.000000    6.000000  100.000000"
      ]
     },
     "execution_count": 4,
     "metadata": {},
     "output_type": "execute_result"
    }
   ],
   "source": [
    "#変数の概要を調べる\n",
    "d.describe()"
   ]
  },
  {
   "cell_type": "code",
   "execution_count": 5,
   "metadata": {},
   "outputs": [
    {
     "name": "stdout",
     "output_type": "stream",
     "text": [
      "Parameters:  Intercept   -2.148745\n",
      "x            0.510381\n",
      "dtype: float64\n",
      "                 Generalized Linear Model Regression Results                  \n",
      "==============================================================================\n",
      "Dep. Variable:      ['y', 'I(N - y)']   No. Observations:                  100\n",
      "Model:                            GLM   Df Residuals:                       98\n",
      "Model Family:                Binomial   Df Model:                            1\n",
      "Link Function:                  logit   Scale:                          1.0000\n",
      "Method:                          IRLS   Log-Likelihood:                -322.80\n",
      "Date:                Tue, 09 Oct 2018   Deviance:                       513.84\n",
      "Time:                        17:47:42   Pearson chi2:                     428.\n",
      "No. Iterations:                     4   Covariance Type:             nonrobust\n",
      "==============================================================================\n",
      "                 coef    std err          z      P>|z|      [0.025      0.975]\n",
      "------------------------------------------------------------------------------\n",
      "Intercept     -2.1487      0.237     -9.057      0.000      -2.614      -1.684\n",
      "x              0.5104      0.056      9.179      0.000       0.401       0.619\n",
      "==============================================================================\n",
      "              Results: Generalized linear model\n",
      "==============================================================\n",
      "Model:              GLM               AIC:            649.6056\n",
      "Link Function:      logit             BIC:            62.5296 \n",
      "Dependent Variable: ['y', 'I(N - y)'] Log-Likelihood: -322.80 \n",
      "Date:               2018-10-09 17:47  LL-Null:        -369.60 \n",
      "No. Observations:   100               Deviance:       513.84  \n",
      "Df Model:           1                 Pearson chi2:   428.    \n",
      "Df Residuals:       98                Scale:          1.0000  \n",
      "Method:             IRLS                                      \n",
      "---------------------------------------------------------------\n",
      "            Coef.   Std.Err.     z     P>|z|    [0.025   0.975]\n",
      "---------------------------------------------------------------\n",
      "Intercept  -2.1487    0.2372  -9.0574  0.0000  -2.6137  -1.6838\n",
      "x           0.5104    0.0556   9.1790  0.0000   0.4014   0.6194\n",
      "==============================================================\n",
      "\n"
     ]
    }
   ],
   "source": [
    "#第6章の結果を比較のために再実装\n",
    "import matplotlib.pyplot as plt\n",
    "import statsmodels.api as sm\n",
    "import statsmodels.formula.api as smf \n",
    "\n",
    "log_model = smf.glm(formula=\"y + I(N - y) ~ x \",data=d, family=sm.families.Binomial())\n",
    "log_res = log_model.fit()\n",
    "print('Parameters: ', log_res.params)\n",
    "print(log_res.summary())\n",
    "print(log_res.summary2())"
   ]
  },
  {
   "cell_type": "code",
   "execution_count": 15,
   "metadata": {
    "scrolled": false
   },
   "outputs": [
    {
     "data": {
      "text/plain": [
       "(array([2., 0., 0., 5., 0., 6., 4., 0., 2., 1.]),\n",
       " array([1. , 1.6, 2.2, 2.8, 3.4, 4. , 4.6, 5.2, 5.8, 6.4, 7. ]),\n",
       " <a list of 1 Patch objects>)"
      ]
     },
     "execution_count": 15,
     "metadata": {},
     "output_type": "execute_result"
    },
    {
     "data": {
      "image/png": "[encoded data removed]",
      "text/plain": [
       "<Figure size 720x288 with 1 Axes>"
      ]
     },
     "metadata": {},
     "output_type": "display_data"
    }
   ],
   "source": [
    "import matplotlib.pyplot as plt\n",
    "import numpy as np\n",
    "from numpy.random import *\n",
    "#二項分布に従っていなそう・・・ということを確認\n",
    "#過分散があるっぽい\n",
    "#例としてx=4のデータを抽出\n",
    "x4 = d[d[\"x\"]==4]\n",
    "fig1 = plt.figure(figsize=(10,4))\n",
    "ax1 = fig1.add_subplot(111)\n",
    "ax1.plot(x4[\"y\"].value_counts().index,x4[\"y\"].value_counts(),'x')\n",
    "p=1/(1+np.exp(2.1487-0.5104*4))\n",
    "plt.hist(binomial(8, p=p,size=20),histtype=\"step\")"
   ]
  },
  {
   "cell_type": "code",
   "execution_count": 16,
   "metadata": {},
   "outputs": [
    {
     "name": "stdout",
     "output_type": "stream",
     "text": [
      "x=4のデータにおけるyの平均： 4.05\n",
      "x=4のデータにおけるyの分散： 8.365789473684211\n"
     ]
    }
   ],
   "source": [
    "print(\"x=4のデータにおけるyの平均：\" , np.mean(x4[\"y\"]))\n",
    "#不偏分散を求めるためにはddof=1を設定する\n",
    "print(\"x=4のデータにおけるyの分散：\", np.var(x4[\"y\"],ddof=1))\n",
    "#もしx=4におけるyが二項分布に従うなら、生存確率の平均は約0.5、分散は8*0.5*0.5=約2.0\n",
    "#分散が理論値と比べると大きい→過分散(平均に関しても20*0.5=10なので、理論値のとのズレはある)"
   ]
  },
  {
   "cell_type": "code",
   "execution_count": 104,
   "metadata": {},
   "outputs": [],
   "source": [
    "#上記の結果より、各個体を同じ二項分布に従っていると仮定するのは厳しい\n",
    "#観測されていない差があるのでは？①個体差②場所差　など・・・\n",
    "#→GLMM(一般化線形混合モデル)の導入"
   ]
  },
  {
   "cell_type": "code",
   "execution_count": 17,
   "metadata": {},
   "outputs": [
    {
     "name": "stdout",
     "output_type": "stream",
     "text": [
      "try({summary(glmmML(cbind(y,N-y)~x,data=d,family=binomial,cluster=id))})\n",
      "\n",
      "Call:  glmmML(formula = cbind(y, N - y) ~ x, family = binomial, data = d,      cluster = id) \n",
      "\n",
      "\n",
      "              coef se(coef)      z Pr(>|z|)\n",
      "(Intercept) -4.190   0.8777 -4.774 1.81e-06\n",
      "x            1.005   0.2075  4.843 1.28e-06\n",
      "\n",
      "Scale parameter in mixing distribution:  2.408 gaussian \n",
      "Std. Error:                              0.2202 \n",
      "\n",
      "        LR p-value for H_0: sigma = 0:  2.136e-55 \n",
      "\n",
      "Residual deviance: 269.4 on 97 degrees of freedom \tAIC: 275.4 \n",
      "\n"
     ]
    }
   ],
   "source": [
    "#GLMMの実装　pythonにはmixedlmモジュールはあるが、GLMに対応していない(OLSにしか使えないみたい)\n",
    "#個体差があるとしてモデルを作成する\n",
    "#pyperを使ってRに受け渡して実行\n",
    "\n",
    "import pyper as pr\n",
    "\n",
    "r = pr.R(use_numpy='True', use_pandas='True')\n",
    "#pythonのデータフレームdをR側でdという名前のデータフレームに割り当てる。\n",
    "r.assign(\"d\",d);\n",
    "#RでGLMMを実行する\n",
    "r('library(glmmML)')\n",
    "print(r('summary(glmmML(cbind(y,N-y)~x,data=d,family=binomial,cluster=id))'))"
   ]
  },
  {
   "cell_type": "code",
   "execution_count": null,
   "metadata": {},
   "outputs": [],
   "source": [
    "#上記の推計結果は教科書と微妙に違う\n",
    "#これはglmmMLの計算方法によるものらしい。methodに何も指定しない場合、Laplace 近似法 が使われるが、教科書ではGauss-Helmite 法\n",
    "#を使っているらしい。(筆者webサイトより)"
   ]
  },
  {
   "cell_type": "code",
   "execution_count": 125,
   "metadata": {},
   "outputs": [
    {
     "name": "stdout",
     "output_type": "stream",
     "text": [
      "try({summary(glmmML(cbind(y,N-y)~x,data=d,family=binomial,cluster=id,method = \"ghq\"))})\n",
      "\n",
      "Call:  glmmML(formula = cbind(y, N - y) ~ x, family = binomial, data = d,      cluster = id, method = \"ghq\") \n",
      "\n",
      "\n",
      "               coef se(coef)      z Pr(>|z|)\n",
      "(Intercept) -4.1296   0.9055 -4.561 5.10e-06\n",
      "x            0.9903   0.2141  4.625 3.75e-06\n",
      "\n",
      "Scale parameter in mixing distribution:  2.494 gaussian \n",
      "Std. Error:                              0.3093 \n",
      "\n",
      "        LR p-value for H_0: sigma = 0:  1.792e-56 \n",
      "\n",
      "Residual deviance: 264.5 on 97 degrees of freedom \tAIC: 270.5 \n",
      "\n"
     ]
    }
   ],
   "source": [
    "#Gauss-Helmite 法による推計\n",
    "r = pr.R(use_numpy='True', use_pandas='True')\n",
    "r.assign(\"d\",d);\n",
    "r('library(glmmML)')\n",
    "print(r('summary(glmmML(cbind(y,N-y)~x,data=d,family=binomial,cluster=id,method = \"ghq\"))'))"
   ]
  }
 ],
 "metadata": {
  "kernelspec": {
   "display_name": "Python 3",
   "language": "python",
   "name": "python3"
  },
  "language_info": {
   "codemirror_mode": {
    "name": "ipython",
    "version": 3
   },
   "file_extension": ".py",
   "mimetype": "text/x-python",
   "name": "python",
   "nbconvert_exporter": "python",
   "pygments_lexer": "ipython3",
   "version": "3.6.6"
  }
 },
 "nbformat": 4,
 "nbformat_minor": 2
}
