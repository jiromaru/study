{
 "cells": [
  {
   "cell_type": "code",
   "execution_count": 4,
   "metadata": {},
   "outputs": [],
   "source": [
    "import requests\n",
    "from bs4 import BeautifulSoup\n",
    "\n",
    "url=\"https://stocks.finance.yahoo.co.jp/stocks/detail/?code=8411.T\"\n",
    "html=requests.get(url).text"
   ]
  },
  {
   "cell_type": "code",
   "execution_count": 6,
   "metadata": {},
   "outputs": [],
   "source": [
    "#BeautifulSoupオブジェクトを作成する\n",
    "#htmlなどを取得するには、上記のようにrequestsなどを使う\n",
    "soup = BeautifulSoup(html, \"html.parser\")"
   ]
  },
  {
   "cell_type": "code",
   "execution_count": 19,
   "metadata": {},
   "outputs": [],
   "source": [
    "example1='<html><head><meta charset=\"utf-8\"><title>タイトル</title></head><body><p>aaa</p><p>bbb</p></body></html>'\n",
    "soup = BeautifulSoup(example1, \"html.parser\")"
   ]
  },
  {
   "cell_type": "code",
   "execution_count": 41,
   "metadata": {},
   "outputs": [
    {
     "name": "stdout",
     "output_type": "stream",
     "text": [
      "<p>aaa</p>\n",
      "[<p>aaa</p>, <p>bbb</p>]\n",
      "aaa\n",
      "aaa\n",
      "aaa\n",
      "['aaa', 'bbb']\n"
     ]
    }
   ],
   "source": [
    "#findメソッドは、該当要素が複数ある場合は初めの一つ目を返す\n",
    "p=soup.find(\"p\")\n",
    "print(p)\n",
    "#find_allメソッドは、該当要素をlist形式で返す\n",
    "p_list=soup.find_all(\"p\")\n",
    "print(p_list)\n",
    "print(p.string)\n",
    "#それぞれのタグの中身を取得するためには①string②text③get_text()などがある\n",
    "p_list=soup.find_all(\"p\")\n",
    "body=soup.find(\"body\")\n",
    "print(p.text)\n",
    "print(p.get_text())\n",
    "\n",
    "#p_listのように複数要素ある場合はstringなどは使えない\n",
    "#それぞれの要素に対して中身を取得したい場合はループ処理などで抽出する\n",
    "p_list_string=[i.string for i in p_list]\n",
    "print(p_list_string)"
   ]
  },
  {
   "cell_type": "code",
   "execution_count": 43,
   "metadata": {},
   "outputs": [
    {
     "name": "stdout",
     "output_type": "stream",
     "text": [
      "None\n",
      "aaa,bbb\n",
      "aaa|bbb\n",
      "aaabbb\n",
      "aaabbb\n"
     ]
    }
   ],
   "source": [
    "###string,text,get_text()の違いについて\n",
    "#子要素が複数ある場合、stringはNoneを返す\n",
    "#textとget_text()は子要素が複数ある場合はくっつけた形で返す\n",
    "#get_text()は引数で区切り文字を指定すれば、それで区切った形でくっつけて返す\n",
    "\n",
    "print(body.string)\n",
    "print(body.get_text(\",\"))\n",
    "print(body.get_text(\"|\"))\n",
    "print(body.get_text())\n",
    "print(body.text)"
   ]
  },
  {
   "cell_type": "code",
   "execution_count": 44,
   "metadata": {},
   "outputs": [
    {
     "name": "stdout",
     "output_type": "stream",
     "text": [
      "aaa\n"
     ]
    }
   ],
   "source": [
    "#splitを使うことによって、複数の子要素から任意の要素を取得することもできる\n",
    "print(body.get_text(\"|\").split(\"|\")[0])"
   ]
  }
 ],
 "metadata": {
  "kernelspec": {
   "display_name": "Python 3",
   "language": "python",
   "name": "python3"
  },
  "language_info": {
   "codemirror_mode": {
    "name": "ipython",
    "version": 3
   },
   "file_extension": ".py",
   "mimetype": "text/x-python",
   "name": "python",
   "nbconvert_exporter": "python",
   "pygments_lexer": "ipython3",
   "version": "3.6.6"
  }
 },
 "nbformat": 4,
 "nbformat_minor": 2
}
