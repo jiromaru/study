{
 "cells": [
  {
   "cell_type": "code",
   "execution_count": 1,
   "metadata": {},
   "outputs": [
    {
     "data": {
      "text/html": [
       "<div>\n",
       "<style scoped>\n",
       "    .dataframe tbody tr th:only-of-type {\n",
       "        vertical-align: middle;\n",
       "    }\n",
       "\n",
       "    .dataframe tbody tr th {\n",
       "        vertical-align: top;\n",
       "    }\n",
       "\n",
       "    .dataframe thead th {\n",
       "        text-align: right;\n",
       "    }\n",
       "</style>\n",
       "<table border=\"1\" class=\"dataframe\">\n",
       "  <thead>\n",
       "    <tr style=\"text-align: right;\">\n",
       "      <th></th>\n",
       "      <th>y</th>\n",
       "      <th>x</th>\n",
       "      <th>f</th>\n",
       "    </tr>\n",
       "  </thead>\n",
       "  <tbody>\n",
       "    <tr>\n",
       "      <th>0</th>\n",
       "      <td>6</td>\n",
       "      <td>8.31</td>\n",
       "      <td>C</td>\n",
       "    </tr>\n",
       "    <tr>\n",
       "      <th>1</th>\n",
       "      <td>6</td>\n",
       "      <td>9.44</td>\n",
       "      <td>C</td>\n",
       "    </tr>\n",
       "    <tr>\n",
       "      <th>2</th>\n",
       "      <td>6</td>\n",
       "      <td>9.50</td>\n",
       "      <td>C</td>\n",
       "    </tr>\n",
       "    <tr>\n",
       "      <th>3</th>\n",
       "      <td>12</td>\n",
       "      <td>9.07</td>\n",
       "      <td>C</td>\n",
       "    </tr>\n",
       "    <tr>\n",
       "      <th>4</th>\n",
       "      <td>10</td>\n",
       "      <td>10.16</td>\n",
       "      <td>C</td>\n",
       "    </tr>\n",
       "  </tbody>\n",
       "</table>\n",
       "</div>"
      ],
      "text/plain": [
       "    y      x  f\n",
       "0   6   8.31  C\n",
       "1   6   9.44  C\n",
       "2   6   9.50  C\n",
       "3  12   9.07  C\n",
       "4  10  10.16  C"
      ]
     },
     "execution_count": 1,
     "metadata": {},
     "output_type": "execute_result"
    }
   ],
   "source": [
    "# 3章　一般化線形モデル(GLM)\n",
    "\n",
    "#この教科書の実装はR言語によるものとなっている。\n",
    "#それをPythonにて実装しなおす\n",
    "\n",
    "#########この章の簡単な説明######\n",
    "\"\"\"\"\"\n",
    "架空の植物の種子数を推計するモデルを作成する\n",
    "下記のデータdの変数は\n",
    "y・・・種子数\n",
    "x・・・個体の大きさ\n",
    "f・・・肥料の処理をしたかどうか(Tが施肥処理あり、Cがなし)\n",
    "\n",
    "yはポアソン分布に従い、個体によって平均λは異なるという仮定のもとでモデルは構築されている。\n",
    "\"\"\"\"\"\n",
    "import pandas as pd\n",
    "import requests \n",
    "\n",
    "#データは下記サイト(著者のサイト)から取得\n",
    "d = pd.read_csv(\"http://hosho.ees.hokudai.ac.jp/~kubo/stat/iwanamibook/fig/poisson/data3a.csv\")\n",
    "d.head()"
   ]
  },
  {
   "cell_type": "code",
   "execution_count": 2,
   "metadata": {},
   "outputs": [
    {
     "data": {
      "text/plain": [
       "y      int64\n",
       "x    float64\n",
       "f     object\n",
       "dtype: object"
      ]
     },
     "execution_count": 2,
     "metadata": {},
     "output_type": "execute_result"
    }
   ],
   "source": [
    "#各変数の型の確認\n",
    "d.dtypes"
   ]
  },
  {
   "cell_type": "code",
   "execution_count": 3,
   "metadata": {},
   "outputs": [
    {
     "data": {
      "text/html": [
       "<div>\n",
       "<style scoped>\n",
       "    .dataframe tbody tr th:only-of-type {\n",
       "        vertical-align: middle;\n",
       "    }\n",
       "\n",
       "    .dataframe tbody tr th {\n",
       "        vertical-align: top;\n",
       "    }\n",
       "\n",
       "    .dataframe thead th {\n",
       "        text-align: right;\n",
       "    }\n",
       "</style>\n",
       "<table border=\"1\" class=\"dataframe\">\n",
       "  <thead>\n",
       "    <tr style=\"text-align: right;\">\n",
       "      <th></th>\n",
       "      <th>y</th>\n",
       "      <th>x</th>\n",
       "    </tr>\n",
       "  </thead>\n",
       "  <tbody>\n",
       "    <tr>\n",
       "      <th>count</th>\n",
       "      <td>100.000000</td>\n",
       "      <td>100.000000</td>\n",
       "    </tr>\n",
       "    <tr>\n",
       "      <th>mean</th>\n",
       "      <td>7.830000</td>\n",
       "      <td>10.089100</td>\n",
       "    </tr>\n",
       "    <tr>\n",
       "      <th>std</th>\n",
       "      <td>2.624881</td>\n",
       "      <td>1.008049</td>\n",
       "    </tr>\n",
       "    <tr>\n",
       "      <th>min</th>\n",
       "      <td>2.000000</td>\n",
       "      <td>7.190000</td>\n",
       "    </tr>\n",
       "    <tr>\n",
       "      <th>25%</th>\n",
       "      <td>6.000000</td>\n",
       "      <td>9.427500</td>\n",
       "    </tr>\n",
       "    <tr>\n",
       "      <th>50%</th>\n",
       "      <td>8.000000</td>\n",
       "      <td>10.155000</td>\n",
       "    </tr>\n",
       "    <tr>\n",
       "      <th>75%</th>\n",
       "      <td>10.000000</td>\n",
       "      <td>10.685000</td>\n",
       "    </tr>\n",
       "    <tr>\n",
       "      <th>max</th>\n",
       "      <td>15.000000</td>\n",
       "      <td>12.400000</td>\n",
       "    </tr>\n",
       "  </tbody>\n",
       "</table>\n",
       "</div>"
      ],
      "text/plain": [
       "                y           x\n",
       "count  100.000000  100.000000\n",
       "mean     7.830000   10.089100\n",
       "std      2.624881    1.008049\n",
       "min      2.000000    7.190000\n",
       "25%      6.000000    9.427500\n",
       "50%      8.000000   10.155000\n",
       "75%     10.000000   10.685000\n",
       "max     15.000000   12.400000"
      ]
     },
     "execution_count": 3,
     "metadata": {},
     "output_type": "execute_result"
    }
   ],
   "source": [
    "#変数の概要を調べる\n",
    "d.describe()"
   ]
  },
  {
   "cell_type": "code",
   "execution_count": 5,
   "metadata": {
    "scrolled": false
   },
   "outputs": [
    {
     "data": {
      "text/plain": [
       "<matplotlib.axes._subplots.AxesSubplot at 0x23a0ec8feb8>"
      ]
     },
     "execution_count": 5,
     "metadata": {},
     "output_type": "execute_result"
    },
    {
     "data": {
      "text/plain": [
       "<Figure size 720x288 with 0 Axes>"
      ]
     },
     "metadata": {},
     "output_type": "display_data"
    },
    {
     "data": {
      "image/png": "[encoded data removed]",
      "text/plain": [
       "<Figure size 402.875x360 with 6 Axes>"
      ]
     },
     "metadata": {},
     "output_type": "display_data"
    },
    {
     "data": {
      "image/png": "[encoded data removed]",
      "text/plain": [
       "<Figure size 504x504 with 1 Axes>"
      ]
     },
     "metadata": {},
     "output_type": "display_data"
    }
   ],
   "source": [
    "import matplotlib.pyplot as plt\n",
    "import seaborn as sns\n",
    "\n",
    "#散布図\n",
    "plt.figure(figsize=(10,4))\n",
    "sns.pairplot(d,hue=\"f\")\n",
    "\n",
    "#箱ひげ図\n",
    "plt.figure(figsize=(7,7))\n",
    "sns.boxplot(d.f,d.y)\n",
    "\n",
    "\n",
    "#pairplotを見る限り\n",
    "#①施肥処理をしたほうが種子数が多くなる。\n",
    "#②体サイズが大きいほうが種子数が多くなる。\n",
    "#ことがわかる。"
   ]
  },
  {
   "cell_type": "code",
   "execution_count": 6,
   "metadata": {},
   "outputs": [
    {
     "name": "stdout",
     "output_type": "stream",
     "text": [
      "smfバージョン\n",
      "                  Generalized Linear Model Regression Results                  \n",
      "==============================================================================\n",
      "Dep. Variable:                      y   No. Observations:                  100\n",
      "Model:                            GLM   Df Residuals:                       98\n",
      "Model Family:                 Poisson   Df Model:                            1\n",
      "Link Function:                    log   Scale:                          1.0000\n",
      "Method:                          IRLS   Log-Likelihood:                -235.39\n",
      "Date:                Tue, 09 Oct 2018   Deviance:                       84.993\n",
      "Time:                        15:24:40   Pearson chi2:                     83.8\n",
      "No. Iterations:                     4   Covariance Type:             nonrobust\n",
      "==============================================================================\n",
      "                 coef    std err          z      P>|z|      [0.025      0.975]\n",
      "------------------------------------------------------------------------------\n",
      "Intercept      1.2917      0.364      3.552      0.000       0.579       2.005\n",
      "x              0.0757      0.036      2.125      0.034       0.006       0.145\n",
      "==============================================================================\n",
      "smバージョン\n",
      "                  Generalized Linear Model Regression Results                  \n",
      "==============================================================================\n",
      "Dep. Variable:                      y   No. Observations:                  100\n",
      "Model:                            GLM   Df Residuals:                       98\n",
      "Model Family:                 Poisson   Df Model:                            1\n",
      "Link Function:                    log   Scale:                          1.0000\n",
      "Method:                          IRLS   Log-Likelihood:                -235.39\n",
      "Date:                Tue, 09 Oct 2018   Deviance:                       84.993\n",
      "Time:                        15:24:40   Pearson chi2:                     83.8\n",
      "No. Iterations:                     4   Covariance Type:             nonrobust\n",
      "==============================================================================\n",
      "                 coef    std err          z      P>|z|      [0.025      0.975]\n",
      "------------------------------------------------------------------------------\n",
      "x              0.0757      0.036      2.125      0.034       0.006       0.145\n",
      "const          1.2917      0.364      3.552      0.000       0.579       2.005\n",
      "==============================================================================\n"
     ]
    }
   ],
   "source": [
    "import statsmodels.api as sm\n",
    "import statsmodels.formula.api as smf \n",
    "\n",
    "#まずは平均種子数に体サイズxのみが影響を与えていると考えるモデルを作成する(施肥処理を考慮に入れるのは後半)\n",
    "\n",
    "# PythonにおいてGLMを実装する場合、statsmodels.apiやstatsmodels.formula.apiを用いる。\n",
    "# 後者はRのglm関数と同じような分布になる。より柔軟にモデルが作れる。\n",
    "#ポアソン分布回帰を行った場合、デフォルトでリンク関数はlogとなる。\n",
    "\n",
    "d[\"const\"]=1\n",
    "model1 = smf.glm(formula=\"y~x\", data=d, family=sm.families.Poisson())\n",
    "res1 = model1.fit()\n",
    "model2= sm.GLM(d.y, d.drop([\"y\",\"f\"],axis=1), family=sm.families.Poisson())\n",
    "res2 = model2.fit()\n",
    "\n",
    "print(\"smfバージョン\\n\",res1.summary())\n",
    "print(\"smバージョン\\n\",res2.summary())\n",
    "\n",
    "#下記のzはWald統計量\n",
    "#正規線形モデルにおけるt統計量にあたる部分だが,正規性の仮定がないから違うロジックが必要になる。\n",
    "#smfで実装してもsmで実装しても同じ結果になる。\n"
   ]
  },
  {
   "cell_type": "code",
   "execution_count": 13,
   "metadata": {},
   "outputs": [],
   "source": [
    "####################################尤度の指定の仕方(family=で指定する)####################################\n",
    "#ポアソン分布の場合：families.Poisson()\n",
    "#正規分布の場合：families.Gaussian()\n",
    "#二項分布の場合：Binomial([link])\tBinomial exponential family distribution.\n",
    "#ガンマ分布の場合：Gamma([link])\tGamma exponential family distribution.\n",
    "#InverseGaussian([link])\tInverseGaussian exponential family.\n",
    "#負の二項分布の場合：NegativeBinomial([link, alpha])\tNegative Binomial exponential family.\n",
    "#Tweedie([link, var_power])"
   ]
  },
  {
   "cell_type": "code",
   "execution_count": 7,
   "metadata": {},
   "outputs": [
    {
     "data": {
      "image/png": "[encoded data removed]",
      "text/plain": [
       "<Figure size 432x288 with 1 Axes>"
      ]
     },
     "metadata": {},
     "output_type": "display_data"
    }
   ],
   "source": [
    "import numpy as np\n",
    "#下記のグラフは上で推計した結果を用いて、平均種子数λ(ポアソン分布の期待値)と体サイズの関係を図示したもの。\n",
    "\n",
    "fig1 = plt.figure()\n",
    "ax1 = fig1.add_subplot(111)\n",
    "ax1.scatter(d.x[d.f==\"C\"], d.y[d.f==\"C\"], label=\"C\")\n",
    "ax1.scatter(d.x[d.f==\"T\"], d.y[d.f==\"T\"], label=\"T\")\n",
    "ax1.legend(loc='upper left')\n",
    "xx = np.arange(min(d.x), max(d.x), 1)\n",
    "ax1.plot(xx, np.exp(1.2917+0.0757*xx))\n",
    "plt.show(fig1)"
   ]
  },
  {
   "cell_type": "code",
   "execution_count": 8,
   "metadata": {},
   "outputs": [
    {
     "data": {
      "text/plain": [
       "474.78"
      ]
     },
     "execution_count": 8,
     "metadata": {},
     "output_type": "execute_result"
    }
   ],
   "source": [
    "#glmの結果summaryではAICが出力されないので、計算してみる。\n",
    "-2*(-235.39-2)"
   ]
  },
  {
   "cell_type": "code",
   "execution_count": 9,
   "metadata": {},
   "outputs": [
    {
     "name": "stdout",
     "output_type": "stream",
     "text": [
      "summary2\n",
      "               Results: Generalized linear model\n",
      "==============================================================\n",
      "Model:              GLM              AIC:            474.7725 \n",
      "Link Function:      log              BIC:            -366.3137\n",
      "Dependent Variable: y                Log-Likelihood: -235.39  \n",
      "Date:               2018-10-09 15:24 LL-Null:        -237.64  \n",
      "No. Observations:   100              Deviance:       84.993   \n",
      "Df Model:           1                Pearson chi2:   83.8     \n",
      "Df Residuals:       98               Scale:          1.0000   \n",
      "Method:             IRLS                                      \n",
      "---------------------------------------------------------------\n",
      "               Coef.   Std.Err.    z     P>|z|   [0.025  0.975]\n",
      "---------------------------------------------------------------\n",
      "Intercept      1.2917    0.3637  3.5517  0.0004  0.5789  2.0045\n",
      "x              0.0757    0.0356  2.1251  0.0336  0.0059  0.1454\n",
      "==============================================================\n",
      "\n"
     ]
    }
   ],
   "source": [
    "####参考 summary2だとAICなどの情報がある####\n",
    "\n",
    "print(\"summary2\\n\",res1.summary2())\n",
    "\n",
    "#上で計算したAICと一致していることを確認"
   ]
  },
  {
   "cell_type": "code",
   "execution_count": 10,
   "metadata": {},
   "outputs": [],
   "source": [
    "#ここまでは説明変数として体サイズのみ使用したが、次は施肥処理のみのモデルを作成する。\n",
    "\n",
    "#Rではカテゴリ変数をそのままモデルに組み込んでも勝手に処理してくれるが、Pythonは事前に処理をする必要がある。\n",
    "#fをダミー変数化する。\n",
    "d.loc[d[\"f\"]==\"C\",\"f\"]=\"0\"\n",
    "d.loc[d[\"f\"]==\"T\",\"f\"]=\"1\"\n",
    "d.f=d.f.astype(int)"
   ]
  },
  {
   "cell_type": "code",
   "execution_count": 15,
   "metadata": {},
   "outputs": [
    {
     "data": {
      "text/html": [
       "<div>\n",
       "<style scoped>\n",
       "    .dataframe tbody tr th:only-of-type {\n",
       "        vertical-align: middle;\n",
       "    }\n",
       "\n",
       "    .dataframe tbody tr th {\n",
       "        vertical-align: top;\n",
       "    }\n",
       "\n",
       "    .dataframe thead th {\n",
       "        text-align: right;\n",
       "    }\n",
       "</style>\n",
       "<table border=\"1\" class=\"dataframe\">\n",
       "  <thead>\n",
       "    <tr style=\"text-align: right;\">\n",
       "      <th></th>\n",
       "      <th>y</th>\n",
       "      <th>x</th>\n",
       "      <th>f</th>\n",
       "      <th>const</th>\n",
       "    </tr>\n",
       "  </thead>\n",
       "  <tbody>\n",
       "    <tr>\n",
       "      <th>0</th>\n",
       "      <td>6</td>\n",
       "      <td>8.31</td>\n",
       "      <td>0</td>\n",
       "      <td>1</td>\n",
       "    </tr>\n",
       "    <tr>\n",
       "      <th>1</th>\n",
       "      <td>6</td>\n",
       "      <td>9.44</td>\n",
       "      <td>0</td>\n",
       "      <td>1</td>\n",
       "    </tr>\n",
       "    <tr>\n",
       "      <th>2</th>\n",
       "      <td>6</td>\n",
       "      <td>9.50</td>\n",
       "      <td>0</td>\n",
       "      <td>1</td>\n",
       "    </tr>\n",
       "    <tr>\n",
       "      <th>3</th>\n",
       "      <td>12</td>\n",
       "      <td>9.07</td>\n",
       "      <td>0</td>\n",
       "      <td>1</td>\n",
       "    </tr>\n",
       "    <tr>\n",
       "      <th>4</th>\n",
       "      <td>10</td>\n",
       "      <td>10.16</td>\n",
       "      <td>0</td>\n",
       "      <td>1</td>\n",
       "    </tr>\n",
       "  </tbody>\n",
       "</table>\n",
       "</div>"
      ],
      "text/plain": [
       "    y      x  f  const\n",
       "0   6   8.31  0      1\n",
       "1   6   9.44  0      1\n",
       "2   6   9.50  0      1\n",
       "3  12   9.07  0      1\n",
       "4  10  10.16  0      1"
      ]
     },
     "execution_count": 15,
     "metadata": {},
     "output_type": "execute_result"
    }
   ],
   "source": [
    "### 参考\n",
    "#sklearnのラベルエンコーダーでもダミー変数化できる\n",
    "\n",
    "from sklearn import preprocessing\n",
    "d2=d\n",
    "gd=preprocessing.LabelEncoder()\n",
    "gd.fit(d2.f)\n",
    "d2[\"f\"]=gd.transform(d2.f)\n",
    "d2.head()\n",
    "\n",
    "#※注\n",
    "#ラベルエンコーダーはカテゴリ変数を同じ項目の中で0,1,2・・・といった形でダミー変数化するが\n",
    "#one-hot-encodingはCとTという列を新たに作成し、それぞれに0 or 1　が格納されるような形になる。\n",
    "#one-hot-encodingのほうが好ましい(ラベルエンコーダーだと例えばカテゴリに大小関係が勝手の作られてしまう。)\n",
    "#例:太郎、二郎、三郎という名前の項目をラベルエンコーダーでダミー変数化すると、それぞれ0,1,2となるが、これらに大小関係は本来ないはず。\n",
    "#しかしカテゴリの数が多すぎる場合は、one-hot-encodingを用いると項目がかなり多くなってしまうので、やむを得ない場合はラベルエンコーダーを用いるのが良い。\n"
   ]
  },
  {
   "cell_type": "code",
   "execution_count": 16,
   "metadata": {},
   "outputs": [
    {
     "name": "stdout",
     "output_type": "stream",
     "text": [
      "                 Generalized Linear Model Regression Results                  \n",
      "==============================================================================\n",
      "Dep. Variable:                      y   No. Observations:                  100\n",
      "Model:                            GLM   Df Residuals:                       98\n",
      "Model Family:                 Poisson   Df Model:                            1\n",
      "Link Function:                    log   Scale:                          1.0000\n",
      "Method:                          IRLS   Log-Likelihood:                -237.63\n",
      "Date:                Tue, 09 Oct 2018   Deviance:                       89.475\n",
      "Time:                        15:27:00   Pearson chi2:                     87.1\n",
      "No. Iterations:                     4   Covariance Type:             nonrobust\n",
      "==============================================================================\n",
      "                 coef    std err          z      P>|z|      [0.025      0.975]\n",
      "------------------------------------------------------------------------------\n",
      "Intercept      2.0516      0.051     40.463      0.000       1.952       2.151\n",
      "f              0.0128      0.071      0.179      0.858      -0.127       0.153\n",
      "==============================================================================\n",
      "                 Generalized Linear Model Regression Results                  \n",
      "==============================================================================\n",
      "Dep. Variable:                      y   No. Observations:                  100\n",
      "Model:                            GLM   Df Residuals:                       98\n",
      "Model Family:                 Poisson   Df Model:                            1\n",
      "Link Function:                    log   Scale:                          1.0000\n",
      "Method:                          IRLS   Log-Likelihood:                -237.63\n",
      "Date:                Tue, 09 Oct 2018   Deviance:                       89.475\n",
      "Time:                        15:27:00   Pearson chi2:                     87.1\n",
      "No. Iterations:                     4   Covariance Type:             nonrobust\n",
      "==============================================================================\n",
      "                 coef    std err          z      P>|z|      [0.025      0.975]\n",
      "------------------------------------------------------------------------------\n",
      "const          2.0516      0.051     40.463      0.000       1.952       2.151\n",
      "f              0.0128      0.071      0.179      0.858      -0.127       0.153\n",
      "==============================================================================\n"
     ]
    }
   ],
   "source": [
    "#定数項+ダミー変数のモデル\n",
    "model3 = smf.glm(formula=\"y~f\", data=d, family=sm.families.Poisson())\n",
    "model4 = sm.GLM(d.y, d[[\"const\",\"f\"]], family=sm.families.Poisson())\n",
    "res3 = model3.fit()\n",
    "print(res3.summary())\n",
    "res4 = model4.fit()\n",
    "print(res4.summary())"
   ]
  },
  {
   "cell_type": "code",
   "execution_count": 17,
   "metadata": {},
   "outputs": [
    {
     "data": {
      "text/plain": [
       "479.26"
      ]
     },
     "execution_count": 17,
     "metadata": {},
     "output_type": "execute_result"
    }
   ],
   "source": [
    "#AIC\n",
    "-2*(-237.63-2)"
   ]
  },
  {
   "cell_type": "code",
   "execution_count": 18,
   "metadata": {},
   "outputs": [
    {
     "name": "stdout",
     "output_type": "stream",
     "text": [
      "              Results: Generalized linear model\n",
      "==============================================================\n",
      "Model:              GLM              AIC:            479.2545 \n",
      "Link Function:      log              BIC:            -361.8317\n",
      "Dependent Variable: y                Log-Likelihood: -237.63  \n",
      "Date:               2018-10-09 15:27 LL-Null:        -237.64  \n",
      "No. Observations:   100              Deviance:       89.475   \n",
      "Df Model:           1                Pearson chi2:   87.1     \n",
      "Df Residuals:       98               Scale:          1.0000   \n",
      "Method:             IRLS                                      \n",
      "----------------------------------------------------------------\n",
      "         Coef.    Std.Err.      z      P>|z|     [0.025   0.975]\n",
      "----------------------------------------------------------------\n",
      "const    2.0516     0.0507   40.4630   0.0000    1.9522   2.1509\n",
      "f        0.0128     0.0715    0.1787   0.8582   -0.1273   0.1529\n",
      "==============================================================\n",
      "\n"
     ]
    }
   ],
   "source": [
    "print(res4.summary2())"
   ]
  },
  {
   "cell_type": "code",
   "execution_count": 19,
   "metadata": {},
   "outputs": [
    {
     "name": "stdout",
     "output_type": "stream",
     "text": [
      "                 Generalized Linear Model Regression Results                  \n",
      "==============================================================================\n",
      "Dep. Variable:                      y   No. Observations:                  100\n",
      "Model:                            GLM   Df Residuals:                       97\n",
      "Model Family:                 Poisson   Df Model:                            2\n",
      "Link Function:                    log   Scale:                          1.0000\n",
      "Method:                          IRLS   Log-Likelihood:                -235.29\n",
      "Date:                Tue, 09 Oct 2018   Deviance:                       84.808\n",
      "Time:                        15:27:06   Pearson chi2:                     83.8\n",
      "No. Iterations:                     4   Covariance Type:             nonrobust\n",
      "==============================================================================\n",
      "                 coef    std err          z      P>|z|      [0.025      0.975]\n",
      "------------------------------------------------------------------------------\n",
      "Intercept      1.2631      0.370      3.417      0.001       0.539       1.988\n",
      "x              0.0801      0.037      2.162      0.031       0.007       0.153\n",
      "f             -0.0320      0.074     -0.430      0.667      -0.178       0.114\n",
      "==============================================================================\n",
      "                 Generalized Linear Model Regression Results                  \n",
      "==============================================================================\n",
      "Dep. Variable:                      y   No. Observations:                  100\n",
      "Model:                            GLM   Df Residuals:                       97\n",
      "Model Family:                 Poisson   Df Model:                            2\n",
      "Link Function:                    log   Scale:                          1.0000\n",
      "Method:                          IRLS   Log-Likelihood:                -235.29\n",
      "Date:                Tue, 09 Oct 2018   Deviance:                       84.808\n",
      "Time:                        15:27:06   Pearson chi2:                     83.8\n",
      "No. Iterations:                     4   Covariance Type:             nonrobust\n",
      "==============================================================================\n",
      "                 coef    std err          z      P>|z|      [0.025      0.975]\n",
      "------------------------------------------------------------------------------\n",
      "const          1.2631      0.370      3.417      0.001       0.539       1.988\n",
      "x              0.0801      0.037      2.162      0.031       0.007       0.153\n",
      "f             -0.0320      0.074     -0.430      0.667      -0.178       0.114\n",
      "==============================================================================\n"
     ]
    }
   ],
   "source": [
    "#今度は定数項+x+ダミー変数のモデルを作成する。\n",
    "model5 = smf.glm(formula=\"y~x+f\", data=d, family=sm.families.Poisson())\n",
    "res5 = model5.fit()\n",
    "print(res5.summary())\n",
    "model6 = sm.GLM(d.y, d[[\"const\",\"x\",\"f\"]], family=sm.families.Poisson())\n",
    "res6 = model6.fit()\n",
    "print(res6.summary())"
   ]
  },
  {
   "cell_type": "code",
   "execution_count": 20,
   "metadata": {},
   "outputs": [
    {
     "data": {
      "image/png": "[encoded data removed]",
      "text/plain": [
       "<Figure size 432x288 with 1 Axes>"
      ]
     },
     "metadata": {},
     "output_type": "display_data"
    }
   ],
   "source": [
    "import numpy as np\n",
    "fig1 = plt.figure()\n",
    "ax1 = fig1.add_subplot(111)\n",
    "ax1.scatter(d2.x[d2.f==0], d2.y[d2.f==0], label=\"C\",)\n",
    "ax1.scatter(d2.x[d2.f==1], d2.y[d2.f==1], label=\"T\")\n",
    "ax1.legend(loc='upper left')\n",
    "xx = np.arange(min(d2.x), max(d2.x), 1)\n",
    "ff = np.arange(min(d2.f), max(d2.f), 1)\n",
    "ax1.plot(xx, np.exp(1.2631+0.0801*xx+(-0.032)*ff))\n",
    "plt.show(fig1)"
   ]
  },
  {
   "cell_type": "code",
   "execution_count": 21,
   "metadata": {},
   "outputs": [
    {
     "data": {
      "text/plain": [
       "476.58"
      ]
     },
     "execution_count": 21,
     "metadata": {},
     "output_type": "execute_result"
    }
   ],
   "source": [
    "#AIC\n",
    "-2*(-235.29-3)"
   ]
  },
  {
   "cell_type": "code",
   "execution_count": 22,
   "metadata": {},
   "outputs": [
    {
     "name": "stdout",
     "output_type": "stream",
     "text": [
      "              Results: Generalized linear model\n",
      "==============================================================\n",
      "Model:              GLM              AIC:            476.5874 \n",
      "Link Function:      log              BIC:            -361.8936\n",
      "Dependent Variable: y                Log-Likelihood: -235.29  \n",
      "Date:               2018-10-09 15:27 LL-Null:        -237.64  \n",
      "No. Observations:   100              Deviance:       84.808   \n",
      "Df Model:           2                Pearson chi2:   83.8     \n",
      "Df Residuals:       97               Scale:          1.0000   \n",
      "Method:             IRLS                                      \n",
      "---------------------------------------------------------------\n",
      "             Coef.   Std.Err.     z     P>|z|    [0.025  0.975]\n",
      "---------------------------------------------------------------\n",
      "Intercept    1.2631    0.3696   3.4172  0.0006   0.5386  1.9876\n",
      "x            0.0801    0.0370   2.1620  0.0306   0.0075  0.1527\n",
      "f           -0.0320    0.0744  -0.4302  0.6670  -0.1778  0.1138\n",
      "==============================================================\n",
      "\n"
     ]
    }
   ],
   "source": [
    "print(res5.summary2())"
   ]
  },
  {
   "cell_type": "code",
   "execution_count": 24,
   "metadata": {},
   "outputs": [
    {
     "name": "stdout",
     "output_type": "stream",
     "text": [
      "                 Generalized Linear Model Regression Results                  \n",
      "==============================================================================\n",
      "Dep. Variable:                      y   No. Observations:                  100\n",
      "Model:                            GLM   Df Residuals:                       97\n",
      "Model Family:                 Poisson   Df Model:                            2\n",
      "Link Function:               identity   Scale:                          1.0000\n",
      "Method:                          IRLS   Log-Likelihood:                -235.16\n",
      "Date:                Tue, 09 Oct 2018   Deviance:                       84.538\n",
      "Time:                        15:27:29   Pearson chi2:                     83.6\n",
      "No. Iterations:                     5   Covariance Type:             nonrobust\n",
      "==============================================================================\n",
      "                 coef    std err          z      P>|z|      [0.025      0.975]\n",
      "------------------------------------------------------------------------------\n",
      "Intercept      1.2671      2.843      0.446      0.656      -4.306       6.840\n",
      "x              0.6606      0.290      2.281      0.023       0.093       1.228\n",
      "f             -0.2048      0.582     -0.352      0.725      -1.346       0.936\n",
      "==============================================================================\n",
      "                 Generalized Linear Model Regression Results                  \n",
      "==============================================================================\n",
      "Dep. Variable:                      y   No. Observations:                  100\n",
      "Model:                            GLM   Df Residuals:                       97\n",
      "Model Family:                 Poisson   Df Model:                            2\n",
      "Link Function:               identity   Scale:                          1.0000\n",
      "Method:                          IRLS   Log-Likelihood:                -235.16\n",
      "Date:                Tue, 09 Oct 2018   Deviance:                       84.538\n",
      "Time:                        15:27:29   Pearson chi2:                     83.6\n",
      "No. Iterations:                     5   Covariance Type:             nonrobust\n",
      "==============================================================================\n",
      "                 coef    std err          z      P>|z|      [0.025      0.975]\n",
      "------------------------------------------------------------------------------\n",
      "const          1.2671      2.843      0.446      0.656      -4.306       6.840\n",
      "x              0.6606      0.290      2.281      0.023       0.093       1.228\n",
      "f             -0.2048      0.582     -0.352      0.725      -1.346       0.936\n",
      "==============================================================================\n"
     ]
    },
    {
     "name": "stderr",
     "output_type": "stream",
     "text": [
      "C:\\Users\\hirou\\Anaconda3\\lib\\site-packages\\statsmodels\\genmod\\generalized_linear_model.py:302: DomainWarning: The identity link function does not respect the domain of the Poisson family.\n",
      "  DomainWarning)\n",
      "C:\\Users\\hirou\\Anaconda3\\lib\\site-packages\\statsmodels\\genmod\\generalized_linear_model.py:302: DomainWarning: The identity link function does not respect the domain of the Poisson family.\n",
      "  DomainWarning)\n"
     ]
    }
   ],
   "source": [
    "#これまでのモデルでは、リンク関数が対数リンクだった。\n",
    "#ここでは恒等リンク関数の場合を試す\n",
    "#identityリンク関数が恒等リンク関数\n",
    "model7 = smf.glm(formula=\"y~x+f\",data=d, family=sm.families.Poisson(sm.families.links.identity))\n",
    "res7 = model7.fit()\n",
    "print(res7.summary())\n",
    "model8 = sm.GLM(d[\"y\"],d[[\"const\",\"x\",\"f\"]], family=sm.families.Poisson(sm.families.links.identity))\n",
    "res8 = model8.fit()\n",
    "print(res8.summary())"
   ]
  },
  {
   "cell_type": "code",
   "execution_count": 25,
   "metadata": {},
   "outputs": [
    {
     "data": {
      "text/plain": [
       "[statsmodels.genmod.families.links.log,\n",
       " statsmodels.genmod.families.links.identity,\n",
       " statsmodels.genmod.families.links.sqrt]"
      ]
     },
     "execution_count": 25,
     "metadata": {},
     "output_type": "execute_result"
    }
   ],
   "source": [
    "### 参考\n",
    "#ポアソン回帰で使えるリンク関数の表示\n",
    "sm.families.family.Poisson.links\n",
    "#ここにないリンク関数は使用できないので注意"
   ]
  },
  {
   "cell_type": "code",
   "execution_count": 27,
   "metadata": {},
   "outputs": [
    {
     "name": "stdout",
     "output_type": "stream",
     "text": [
      "476.32\n"
     ]
    }
   ],
   "source": [
    "#AIC\n",
    "print(-2*(-235.16-3))"
   ]
  },
  {
   "cell_type": "code",
   "execution_count": 28,
   "metadata": {},
   "outputs": [
    {
     "name": "stdout",
     "output_type": "stream",
     "text": [
      "              Results: Generalized linear model\n",
      "==============================================================\n",
      "Model:              GLM              AIC:            476.3179 \n",
      "Link Function:      identity         BIC:            -362.1631\n",
      "Dependent Variable: y                Log-Likelihood: -235.16  \n",
      "Date:               2018-10-09 15:27 LL-Null:        -237.64  \n",
      "No. Observations:   100              Deviance:       84.538   \n",
      "Df Model:           2                Pearson chi2:   83.6     \n",
      "Df Residuals:       97               Scale:          1.0000   \n",
      "Method:             IRLS                                      \n",
      "---------------------------------------------------------------\n",
      "             Coef.   Std.Err.     z     P>|z|    [0.025  0.975]\n",
      "---------------------------------------------------------------\n",
      "Intercept    1.2671    2.8433   0.4456  0.6559  -4.3057  6.8398\n",
      "x            0.6606    0.2897   2.2807  0.0226   0.0929  1.2284\n",
      "f           -0.2048    0.5823  -0.3517  0.7251  -1.3459  0.9364\n",
      "==============================================================\n",
      "\n"
     ]
    }
   ],
   "source": [
    "print(res7.summary2())"
   ]
  },
  {
   "cell_type": "code",
   "execution_count": 29,
   "metadata": {},
   "outputs": [
    {
     "name": "stdout",
     "output_type": "stream",
     "text": [
      "係数\n",
      " Intercept    1.267053\n",
      "x            0.660646\n",
      "f           -0.204754\n",
      "dtype: float64\n",
      "\n",
      "AIC\n",
      " 476.3179450884154\n"
     ]
    }
   ],
   "source": [
    "### 参考　gml関連のパラメータ\n",
    "print(\"係数\\n\",res7.params)\n",
    "print()\n",
    "print(\"AIC\\n\",res7.aic)"
   ]
  },
  {
   "cell_type": "code",
   "execution_count": 53,
   "metadata": {},
   "outputs": [],
   "source": [
    "###参考　summaryにあるDevianceに関して\n",
    "\n",
    "#これは残差逸脱度を意味している。\n",
    "#具体的な意味としては、あてはめたモデルにおける逸脱度(-2*最大対数尤度)と、フルモデル(データサイズ=パラメータの数となるモデル)における逸脱度の差\n",
    "#フルモデルにおける逸脱度は実現できる最小の逸脱度を意味する。"
   ]
  },
  {
   "cell_type": "code",
   "execution_count": 30,
   "metadata": {},
   "outputs": [
    {
     "name": "stdout",
     "output_type": "stream",
     "text": [
      "                 Generalized Linear Model Regression Results                  \n",
      "==============================================================================\n",
      "Dep. Variable:                      y   No. Observations:                  100\n",
      "Model:                            GLM   Df Residuals:                       99\n",
      "Model Family:                 Poisson   Df Model:                            0\n",
      "Link Function:                    log   Scale:                          1.0000\n",
      "Method:                          IRLS   Log-Likelihood:                -237.64\n",
      "Date:                Tue, 09 Oct 2018   Deviance:                       89.507\n",
      "Time:                        15:27:48   Pearson chi2:                     87.1\n",
      "No. Iterations:                     4   Covariance Type:             nonrobust\n",
      "==============================================================================\n",
      "                 coef    std err          z      P>|z|      [0.025      0.975]\n",
      "------------------------------------------------------------------------------\n",
      "Intercept      2.0580      0.036     57.586      0.000       1.988       2.128\n",
      "==============================================================================\n"
     ]
    }
   ],
   "source": [
    "#5章 GLMの尤度比検定と検定の非対称性\n",
    "\n",
    "\"\"\"\"\"\n",
    "3章で、ある植物の種子数に関して体サイズや施肥効果を用いたモデルを作成した。\n",
    "ここではそれらの結果に対して検定などを行う。\n",
    "この章で紹介されているのは①パラメトリックブートスラップ法と②尤度比検定である。\n",
    "仮説としては、\n",
    "帰無仮説:一定モデル\n",
    "対立仮説:定数項+体サイズ\n",
    "としている。\n",
    "\"\"\"\"\"\n",
    "#まずは一定モデルを作成する\n",
    "model_const=smf.glm(formula=\"y~1\",data=d,family=sm.families.Poisson())\n",
    "res_const=model_const.fit()\n",
    "print(res_const.summary())"
   ]
  },
  {
   "cell_type": "code",
   "execution_count": 35,
   "metadata": {},
   "outputs": [
    {
     "name": "stdout",
     "output_type": "stream",
     "text": [
      "逸脱度の差: 4.513941078851744\n"
     ]
    },
    {
     "data": {
      "text/plain": [
       "[0.3278890335063096,\n",
       " 0.04405995192932721,\n",
       " 0.7884659686694846,\n",
       " 1.6578402209614609,\n",
       " 0.3546656280501992]"
      ]
     },
     "execution_count": 35,
     "metadata": {},
     "output_type": "execute_result"
    }
   ],
   "source": [
    "#パラメトリックブートストラップ\n",
    "\n",
    "deviance=res_const.deviance-res1.deviance\n",
    "print(\"逸脱度の差:\",deviance)\n",
    "deviance_list=[]\n",
    "\n",
    "from numpy.random import *\n",
    "\n",
    "for i in range(1,1001):\n",
    "    #ポアソン分布からの乱数を100個発生\n",
    "    #7.85はexp(2.06)のこと\n",
    "    #2.06は一定モデルにおける定数項の推定値。一定モデルが正しいと仮説したうえでの話なので、平均7.85のポアソン乱数を用いる\n",
    "    y_ran=poisson(7.85,100)\n",
    "    d[\"y_ran\"]=y_ran\n",
    "    #対立仮説は定数項+x\n",
    "    model_tairitsu = smf.glm(formula=\"y_ran~x\",data=d, family=sm.families.Poisson())\n",
    "    tairitsu = model_tairitsu.fit()\n",
    "    #帰無仮説は一定モデル\n",
    "    model_kimu = smf.glm(formula=\"y_ran~1\", data=d,family=sm.families.Poisson())\n",
    "    kimu = model_kimu.fit()\n",
    "    deviance_list.append(kimu.deviance-tairitsu.deviance)\n",
    "\n",
    "deviance_list[:5]"
   ]
  },
  {
   "cell_type": "code",
   "execution_count": 36,
   "metadata": {},
   "outputs": [
    {
     "name": "stderr",
     "output_type": "stream",
     "text": [
      "C:\\Users\\hirou\\Anaconda3\\lib\\site-packages\\scipy\\stats\\stats.py:1713: FutureWarning: Using a non-tuple sequence for multidimensional indexing is deprecated; use `arr[tuple(seq)]` instead of `arr[seq]`. In the future this will be interpreted as an array index, `arr[np.array(seq)]`, which will result either in an error or a different result.\n",
      "  return np.add.reduce(sorted[indexer] * weights, axis=axis) / sumval\n",
      "C:\\Users\\hirou\\Anaconda3\\lib\\site-packages\\matplotlib\\axes\\_axes.py:6462: UserWarning: The 'normed' kwarg is deprecated, and has been replaced by the 'density' kwarg.\n",
      "  warnings.warn(\"The 'normed' kwarg is deprecated, and has been \"\n"
     ]
    },
    {
     "data": {
      "text/plain": [
       "<matplotlib.axes._subplots.AxesSubplot at 0x23a0ebcb080>"
      ]
     },
     "execution_count": 36,
     "metadata": {},
     "output_type": "execute_result"
    },
    {
     "data": {
      "image/png": "[encoded data removed]",
      "text/plain": [
       "<Figure size 432x288 with 1 Axes>"
      ]
     },
     "metadata": {},
     "output_type": "display_data"
    }
   ],
   "source": [
    "#上で作成したdevienceの分布を図示\n",
    "sns.distplot(deviance_list,kde=False)"
   ]
  },
  {
   "cell_type": "code",
   "execution_count": 38,
   "metadata": {},
   "outputs": [
    {
     "name": "stdout",
     "output_type": "stream",
     "text": [
      "逸脱度以上の個数\n",
      "25\n",
      "逸脱度以上の割合\n",
      "2.5%\n"
     ]
    }
   ],
   "source": [
    "#乱数を発生させた結果で元のデータで算出したdeviance以上のものの個数を算出\n",
    "print(\"逸脱度以上の個数\\n\" + str((deviance_list>=deviance).sum()))\n",
    "print(\"逸脱度以上の割合\\n\" + str((deviance_list>=deviance).sum()/10) + \"%\")"
   ]
  },
  {
   "cell_type": "code",
   "execution_count": 41,
   "metadata": {},
   "outputs": [
    {
     "data": {
      "text/plain": [
       "3.643096323551803"
      ]
     },
     "execution_count": 41,
     "metadata": {},
     "output_type": "execute_result"
    }
   ],
   "source": [
    "#95%点の算出\n",
    "np.percentile(deviance_list,95)"
   ]
  },
  {
   "cell_type": "code",
   "execution_count": null,
   "metadata": {},
   "outputs": [],
   "source": [
    "#つまり有意水準を5%ととするならば、帰無仮説は棄却される→一定モデルはただしくない。"
   ]
  },
  {
   "cell_type": "code",
   "execution_count": 42,
   "metadata": {},
   "outputs": [
    {
     "data": {
      "text/plain": [
       "0.03361969100898115"
      ]
     },
     "execution_count": 42,
     "metadata": {},
     "output_type": "execute_result"
    }
   ],
   "source": [
    "#χ二乗検定(尤度比検定)\n",
    "#こちらは一般的な検定手法の尤度比検定により検定を行う。\n",
    "#-2*log(帰無仮説における最大対数尤度/対立仮説における最大対数尤度)は\n",
    "#近似的にχ二乗分布に従う。自由度は対立仮説の制約の数となる。この場合は体サイズにかかる係数=0という1つのみ\n",
    "#なので自由度は1\n",
    "\n",
    "from scipy import stats\n",
    "\n",
    "data=-2*(res_const.llf-res1.llf)\n",
    "p_value = stats.chi2.sf(x=data, df=1)\n",
    "p_value"
   ]
  },
  {
   "cell_type": "code",
   "execution_count": null,
   "metadata": {},
   "outputs": [],
   "source": [
    "#こちらの検定法に関しても、有意水準を5%ととするならば帰無仮説は棄却される→一定モデルは正しくない。"
   ]
  },
  {
   "cell_type": "code",
   "execution_count": null,
   "metadata": {},
   "outputs": [],
   "source": [
    "#　感想\n",
    "#パラメトリックブートストラップはこの教科書で初めて知ったが、なるほどと思う内容だった。\n",
    "#しかし、一つ疑問がある。\n",
    "#パラメトリックブートストラップを用いる際、yを平均7.85のポアソン乱数を用いて発生させた。\n",
    "#仮説検定の文脈では帰無仮説が正しいとしたうえで理論を構築するため、\n",
    "#帰無仮説である一定モデルの推計結果である「平均=7.85」とすることには異論はない。\n",
    "#しかしyとxの組み合わせに意味があるので、yのみ乱数を発生させxはデータをそのまま使って回帰をし、それを繰り返して検定を行うというのは違和感がある。\n",
    "#つまりループ処理の中のmodel_tairitsuの部分が引っかかる。\n",
    "#実際に行うことはできないが、本来の形としてはyとそれに対応したxをたくさん発生させ、その中で今回の結果が珍しいのかどうかを判断するべきはず。\n",
    "#しかしxは乱数で発生できないので、yのみ乱数を発生させている。この場合、本来の形の代用になるのかがしっくりこない。\n",
    "#パラメトリックブートストラップに関しては、今後も少し調べるべき課題とする。\n",
    "\n"
   ]
  }
 ],
 "metadata": {
  "kernelspec": {
   "display_name": "Python 3",
   "language": "python",
   "name": "python3"
  },
  "language_info": {
   "codemirror_mode": {
    "name": "ipython",
    "version": 3
   },
   "file_extension": ".py",
   "mimetype": "text/x-python",
   "name": "python",
   "nbconvert_exporter": "python",
   "pygments_lexer": "ipython3",
   "version": "3.6.6"
  }
 },
 "nbformat": 4,
 "nbformat_minor": 2
}
